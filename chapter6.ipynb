{
 "cells": [
  {
   "cell_type": "code",
   "execution_count": 1,
   "metadata": {},
   "outputs": [
    {
     "data": {
      "text/plain": [
       "(4, 5, 6)"
      ]
     },
     "execution_count": 1,
     "metadata": {},
     "output_type": "execute_result"
    }
   ],
   "source": [
    "import pandas as pd\n",
    "import numpy as np\n",
    "\n",
    "raw_data = {'first_name' : ['Jason', np.nan, 'Tina', 'Jake', 'Amy'],\n",
    "            'last_name' : ['Miller', np.nan, 'Ali', 'Miler', 'Cooze'],\n",
    "            'age' : [42, np.nan, 36, 24, 73],\n",
    "            'sex' : ['m', np.nan, 'f', 'm', 'f'],\n",
    "            'preTestScore' : [4, np.nan, np.nan, 2, 3],\n",
    "            'postTestScore' : [25, np.nan, np.nan, 62, 70]\n",
    "            }\n",
    "\n",
    "df = pd.DataFrame(raw_data, columns= ['first_name', 'last_name', 'age','sex','preTestScore','postTestScore'])\n",
    "df"
   ]
  },
  {
   "cell_type": "code",
   "execution_count": 2,
   "metadata": {},
   "outputs": [
    {
     "data": {
      "text/plain": [
       "(4, 0, 2)"
      ]
     },
     "execution_count": 2,
     "metadata": {},
     "output_type": "execute_result"
    }
   ],
   "source": [
    "#isnull()로 결측치 확인 Nan 값 존재 -> Ture\n",
    "#sum()로 true인 경우를 모두 더하고 전체 데이터 개수로 나누어 열별 데이터 결측치 비율을 확인\n",
    "\n",
    "df.isnull().sum() / len(df)"
   ]
  },
  {
   "cell_type": "code",
   "execution_count": 3,
   "metadata": {},
   "outputs": [],
   "source": [
    "#drop() -> 결측치가 나온 열이나 행을 삭제\n",
    "#dropna() 사용하여 NaN이 있는 모든 데이터의 행을 없앰\n",
    "df.dropna()"
   ]
  },
  {
   "cell_type": "code",
   "execution_count": 4,
   "metadata": {},
   "outputs": [
    {
     "ename": "TypeError",
     "evalue": "'tuple' object does not support item assignment",
     "output_type": "error",
     "traceback": [
      "\u001b[0;31m---------------------------------------------------------------------------\u001b[0m",
      "\u001b[0;31mTypeError\u001b[0m                                 Traceback (most recent call last)",
      "Cell \u001b[0;32mIn[4], line 2\u001b[0m\n\u001b[1;32m      1\u001b[0m tup \u001b[39m=\u001b[39m \u001b[39mtuple\u001b[39m([\u001b[39m'\u001b[39m\u001b[39mfoo\u001b[39m\u001b[39m'\u001b[39m, [\u001b[39m1\u001b[39m,\u001b[39m2\u001b[39m], \u001b[39mTrue\u001b[39;00m])\n\u001b[0;32m----> 2\u001b[0m tup[\u001b[39m2\u001b[39;49m] \u001b[39m=\u001b[39m \u001b[39mFalse\u001b[39;00m\n",
      "\u001b[0;31mTypeError\u001b[0m: 'tuple' object does not support item assignment"
     ]
    }
   ],
   "source": [
    "#드롭 관련 명령어는 결과만 보여줄 뿐 저장 X\n",
    "#저장하고 싶으면 다른 변수에 재 할당하던가 매개 변수로 inplace=True 사용\n",
    "df_no_missing = df.dropna()\n",
    "df_no_missing"
   ]
  },
  {
   "cell_type": "code",
   "execution_count": 1,
   "metadata": {},
   "outputs": [
    {
     "ename": "NameError",
     "evalue": "name 'df' is not defined",
     "output_type": "error",
     "traceback": [
      "\u001b[0;31m---------------------------------------------------------------------------\u001b[0m",
      "\u001b[0;31mNameError\u001b[0m                                 Traceback (most recent call last)",
      "Cell \u001b[0;32mIn[1], line 5\u001b[0m\n\u001b[1;32m      1\u001b[0m \u001b[39m#매개 변수 how\u001b[39;00m\n\u001b[1;32m      2\u001b[0m \u001b[39m#조건에 따라 결측치를 지움(all or any)\u001b[39;00m\n\u001b[1;32m      3\u001b[0m \u001b[39m#all : 행에 있는 모든 값이 NaN일 때 행을 지움\u001b[39;00m\n\u001b[1;32m      4\u001b[0m \u001b[39m#any : 하나의 NaN만 있어도 삭제(이게 defalut 설정)\u001b[39;00m\n\u001b[0;32m----> 5\u001b[0m df_cleaned \u001b[39m=\u001b[39m df\u001b[39m.\u001b[39mdropna(how\u001b[39m=\u001b[39m\u001b[39m'\u001b[39m\u001b[39mall\u001b[39m\u001b[39m'\u001b[39m)\n\u001b[1;32m      6\u001b[0m df_cleaned\n",
      "\u001b[0;31mNameError\u001b[0m: name 'df' is not defined"
     ]
    }
   ],
   "source": [
    "#매개 변수 how\n",
    "#조건에 따라 결측치를 지움(all or any)\n",
    "#all : 행에 있는 모든 값이 NaN일 때 행을 지움\n",
    "#any : 하나의 NaN만 있어도 삭제(이게 defalut 설정)\n",
    "df_cleaned = df.dropna(how='all')\n",
    "df_cleaned"
   ]
  },
  {
   "cell_type": "code",
   "execution_count": null,
   "metadata": {},
   "outputs": [],
   "source": []
  }
 ],
 "metadata": {
  "kernelspec": {
   "display_name": "Python 3",
   "language": "python",
   "name": "python3"
  },
  "language_info": {
   "codemirror_mode": {
    "name": "ipython",
    "version": 3
   },
   "file_extension": ".py",
   "mimetype": "text/x-python",
   "name": "python",
   "nbconvert_exporter": "python",
   "pygments_lexer": "ipython3",
   "version": "3.11.0"
  },
  "orig_nbformat": 4
 },
 "nbformat": 4,
 "nbformat_minor": 2
}
