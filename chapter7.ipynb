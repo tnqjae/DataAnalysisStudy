{
 "cells": [
  {
   "cell_type": "code",
   "execution_count": null,
   "metadata": {},
   "outputs": [],
   "source": [
    "\"\"\"선형회귀\"\"\"\n",
    "#종속 변수 y와 한 개 이사의 독립변수 x와의 선형 상관관계를 모델링하는 회구 분석 기법\n",
    "#종속 변수와 독립 변수 파악이 중요하다\n",
    "#기존 데이터를 활용해 연속형 변수값을 예측\n",
    "#y = ax + b꼴의 수식을 만들고 a, b값을 찾아낸다.\n",
    "\n",
    "#예측함수와 실제가 값 간의 차이를 최소화하는 방향\n",
    "#예측 함수는 에측값과 실제 값\n"
   ]
  },
  {
   "cell_type": "code",
   "execution_count": null,
   "metadata": {},
   "outputs": [],
   "source": []
  }
 ],
 "metadata": {
  "language_info": {
   "name": "python"
  },
  "orig_nbformat": 4
 },
 "nbformat": 4,
 "nbformat_minor": 2
}
